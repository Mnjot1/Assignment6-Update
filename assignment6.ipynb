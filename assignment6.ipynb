{
 "cells": [
  {
   "cell_type": "markdown",
   "id": "f28879b3-7e96-4c2d-bc0c-753fd42518f0",
   "metadata": {},
   "source": [
    "## Assignment 4 feb"
   ]
  },
  {
   "cell_type": "code",
   "execution_count": null,
   "id": "c9915048-ab58-43ec-9327-c72387819932",
   "metadata": {},
   "outputs": [],
   "source": []
  },
  {
   "cell_type": "code",
   "execution_count": 3,
   "id": "991f4a79-5fc8-4d99-a30f-4ec698b0e79d",
   "metadata": {},
   "outputs": [],
   "source": [
    "#Q1. Create a python program to sort the given list of tuples based on integer value using a\n",
    "# lambda function.\n",
    "List1=[('Sachin Tendulkar', 34357), ('Ricky Ponting', 27483), ('Jack Kallis', 25534), ('Virat Kohli', 24936)]"
   ]
  },
  {
   "cell_type": "code",
   "execution_count": 10,
   "id": "e0036ad8-6de6-4c32-bffa-078ee27933bf",
   "metadata": {},
   "outputs": [],
   "source": [
    "sorted_list=sorted(List1, key=lambda x: x[1], reverse=False)"
   ]
  },
  {
   "cell_type": "code",
   "execution_count": 11,
   "id": "5d21d20c-8c13-413f-bc6d-3446a5a5556f",
   "metadata": {},
   "outputs": [
    {
     "data": {
      "text/plain": [
       "[('Virat Kohli', 24936),\n",
       " ('Jack Kallis', 25534),\n",
       " ('Ricky Ponting', 27483),\n",
       " ('Sachin Tendulkar', 34357)]"
      ]
     },
     "execution_count": 11,
     "metadata": {},
     "output_type": "execute_result"
    }
   ],
   "source": [
    "sorted_list"
   ]
  },
  {
   "cell_type": "code",
   "execution_count": null,
   "id": "b712b9cd-a339-42d9-9e88-c369f3963901",
   "metadata": {},
   "outputs": [],
   "source": []
  },
  {
   "cell_type": "code",
   "execution_count": 17,
   "id": "41a11678-1835-4d7e-83cb-fc4ea2592d40",
   "metadata": {},
   "outputs": [],
   "source": [
    "#Q2. Write a Python Program to find the squares of all the numbers in the given list of integers using\n",
    "#lambda and map functions.\n",
    "List2=[1, 2, 3, 4, 5, 6, 7, 8, 9, 10]"
   ]
  },
  {
   "cell_type": "code",
   "execution_count": 37,
   "id": "1f075996-4214-491c-8157-4289d7ea4a09",
   "metadata": {},
   "outputs": [
    {
     "data": {
      "text/plain": [
       "[1, 4, 9, 16, 25, 36, 49, 64, 81, 100]"
      ]
     },
     "execution_count": 37,
     "metadata": {},
     "output_type": "execute_result"
    }
   ],
   "source": [
    "list(map(lambda x: x**2,List2))"
   ]
  },
  {
   "cell_type": "code",
   "execution_count": null,
   "id": "dc2b61f4-75c9-4777-b176-f44006535bb9",
   "metadata": {},
   "outputs": [],
   "source": []
  },
  {
   "cell_type": "code",
   "execution_count": 23,
   "id": "b2c10cc0-7154-436c-b0a6-1730d7dbae0b",
   "metadata": {},
   "outputs": [],
   "source": [
    "#Q3. Write a python program to convert the given list of integers into a tuple of strings. Use map and\n",
    "#lambda functions\n",
    "#Given String: [1, 2, 3, 4, 5, 6, 7, 8, 9, 10]\n",
    "#Expected output: ('1', '2', '3', '4', '5', '6', '7', '8', '9', '10')"
   ]
  },
  {
   "cell_type": "code",
   "execution_count": 24,
   "id": "9800fbc8-37fa-4171-adc9-b362d5f0c870",
   "metadata": {},
   "outputs": [],
   "source": [
    "List3=[1, 2, 3, 4, 5, 6, 7, 8, 9, 10]"
   ]
  },
  {
   "cell_type": "code",
   "execution_count": 25,
   "id": "2331beb2-27aa-4a78-b1b8-ea0a5bac69cb",
   "metadata": {},
   "outputs": [
    {
     "data": {
      "text/plain": [
       "('1', '2', '3', '4', '5', '6', '7', '8', '9', '10')"
      ]
     },
     "execution_count": 25,
     "metadata": {},
     "output_type": "execute_result"
    }
   ],
   "source": [
    "tuple(map(lambda x: str(x),List3))"
   ]
  },
  {
   "cell_type": "code",
   "execution_count": null,
   "id": "6ed93a98-5337-4a7f-bcc7-bfbe5ca2a64d",
   "metadata": {},
   "outputs": [],
   "source": []
  },
  {
   "cell_type": "code",
   "execution_count": 26,
   "id": "46028a8d-62d1-4e36-8dba-539a25592d39",
   "metadata": {},
   "outputs": [],
   "source": [
    "#Q4. Write a python program using reduce function to compute the product of a list containing numbers\n",
    "#from 1 to 25."
   ]
  },
  {
   "cell_type": "code",
   "execution_count": 31,
   "id": "8f68c40c-08c2-4ee0-a275-773ec4a274e9",
   "metadata": {},
   "outputs": [],
   "source": [
    "from functools import reduce"
   ]
  },
  {
   "cell_type": "code",
   "execution_count": 171,
   "id": "c2bcff55-7a1f-4ba3-b53c-d5d3ccd3ac97",
   "metadata": {},
   "outputs": [],
   "source": [
    "number=range(1,26)"
   ]
  },
  {
   "cell_type": "code",
   "execution_count": 172,
   "id": "8685f378-162b-46d6-8139-59f906d68584",
   "metadata": {},
   "outputs": [
    {
     "data": {
      "text/plain": [
       "15511210043330985984000000"
      ]
     },
     "execution_count": 172,
     "metadata": {},
     "output_type": "execute_result"
    }
   ],
   "source": [
    "reduce(lambda x,y: x*y, number)"
   ]
  },
  {
   "cell_type": "code",
   "execution_count": null,
   "id": "79cba3ca-db29-479a-a138-164d0cdb5ba2",
   "metadata": {},
   "outputs": [],
   "source": []
  },
  {
   "cell_type": "code",
   "execution_count": 38,
   "id": "ab6752b9-cd06-453e-87df-d20e3bbad3a1",
   "metadata": {},
   "outputs": [],
   "source": [
    "#Q5. Write a python program to filter the numbers in a given list that are divisible by 2 and 3 using the\n",
    "#filter function.\n",
    "# [2, 3, 6, 9, 27, 60, 90, 120, 55, 46]"
   ]
  },
  {
   "cell_type": "code",
   "execution_count": 39,
   "id": "c4a343ac-3459-4b0d-95fd-0394306af5de",
   "metadata": {},
   "outputs": [],
   "source": [
    "List4=[2, 3, 6, 9, 27, 60, 90, 120, 55, 46]"
   ]
  },
  {
   "cell_type": "code",
   "execution_count": 42,
   "id": "7fdaedec-57b0-4688-b31b-23908b206273",
   "metadata": {},
   "outputs": [
    {
     "data": {
      "text/plain": [
       "[6, 60, 90, 120]"
      ]
     },
     "execution_count": 42,
     "metadata": {},
     "output_type": "execute_result"
    }
   ],
   "source": [
    "list(filter(lambda x: x%2==0 and x%3==0,List4))"
   ]
  },
  {
   "cell_type": "code",
   "execution_count": null,
   "id": "a27ae812-db49-47ef-a9f8-68b935318464",
   "metadata": {},
   "outputs": [],
   "source": []
  },
  {
   "cell_type": "code",
   "execution_count": 167,
   "id": "63075a76-ae27-4408-bf13-09fe284b8c7f",
   "metadata": {},
   "outputs": [],
   "source": [
    "#Q6. Write a python program to find palindromes in the given list of strings using lambda and filter\n",
    "#function.\n",
    "\n",
    "List5=['python', 'php', 'aba', 'radar', 'level']\n"
   ]
  },
  {
   "cell_type": "code",
   "execution_count": 166,
   "id": "3e2ad9a6-da95-4172-9ae9-41893be19ed9",
   "metadata": {},
   "outputs": [
    {
     "data": {
      "text/plain": [
       "['php', 'aba', 'radar', 'level']"
      ]
     },
     "execution_count": 166,
     "metadata": {},
     "output_type": "execute_result"
    }
   ],
   "source": [
    "list(filter(lambda x: x==x[::-1],List5))"
   ]
  },
  {
   "cell_type": "code",
   "execution_count": null,
   "id": "8672d6c7-6e2f-4f41-ac7f-59a9eec07724",
   "metadata": {},
   "outputs": [],
   "source": []
  }
 ],
 "metadata": {
  "kernelspec": {
   "display_name": "Python 3 (ipykernel)",
   "language": "python",
   "name": "python3"
  },
  "language_info": {
   "codemirror_mode": {
    "name": "ipython",
    "version": 3
   },
   "file_extension": ".py",
   "mimetype": "text/x-python",
   "name": "python",
   "nbconvert_exporter": "python",
   "pygments_lexer": "ipython3",
   "version": "3.10.8"
  }
 },
 "nbformat": 4,
 "nbformat_minor": 5
}
